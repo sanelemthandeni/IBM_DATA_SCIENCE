{
 "cells": [
  {
   "cell_type": "markdown",
   "id": "f64a3be5-8165-4750-8405-5c5643aad12c",
   "metadata": {},
   "source": [
    "# Data Science Tools and Ecosystem"
   ]
  },
  {
   "cell_type": "markdown",
   "id": "ce94b540-2068-4d08-82b2-6b50c8a52e43",
   "metadata": {},
   "source": [
    "This notebook seeks to summarize Data Science Tools and it's Ecosystem."
   ]
  },
  {
   "cell_type": "markdown",
   "id": "f758ecf1-3626-4e6f-b4af-8b543df7721e",
   "metadata": {},
   "source": [
    "**Objectives:**\n",
    "\n",
    "- Creating a jupyter notebook\n",
    "- List some languages data scientists use.\n",
    "- List some data science libriaries."
   ]
  },
  {
   "cell_type": "markdown",
   "id": "18c56c92-0edb-48e5-9118-54ed3b66d0c9",
   "metadata": {},
   "source": [
    "The most popular Data Science Languages are:\n",
    "\n",
    "1. Python\n",
    "2. R\n",
    "3. SQL\n",
    "4. Java\n",
    "5. Julia\n",
    "6. Scala"
   ]
  },
  {
   "cell_type": "markdown",
   "id": "b000a555-c69b-4af1-a80a-ba90e04cb6ee",
   "metadata": {},
   "source": [
    "The most popular Data Science libraries are:\n",
    "\n",
    "1. Pandas\n",
    "2. NumPy\n",
    "3. SciPy\n",
    "4. Matplotlib\n",
    "5. TensorFlow\n",
    "6. Keras\n",
    "7. SciKit-Learn\n",
    "8. PyTorch\n",
    "9. BeautifulSoup\n",
    "10. Scrapy"
   ]
  },
  {
   "cell_type": "markdown",
   "id": "fa2576e2-7ee0-4fc8-9272-7137e6060158",
   "metadata": {},
   "source": [
    "| Data Science Tools |\n",
    "|--------------------|\n",
    "| Apache Spark       |\n",
    "| BigML              |\n",
    "| SAS                |"
   ]
  },
  {
   "cell_type": "markdown",
   "id": "1a6d4c79-0437-4fff-8da6-04ec5e68abc4",
   "metadata": {},
   "source": [
    "### Below are a few examples of evaluating arithmetic expressions in Python"
   ]
  },
  {
   "cell_type": "code",
   "execution_count": 2,
   "id": "78ccfc08-28de-41ed-b5af-6d2e9091c7a0",
   "metadata": {
    "tags": []
   },
   "outputs": [
    {
     "data": {
      "text/plain": [
       "17"
      ]
     },
     "execution_count": 2,
     "metadata": {},
     "output_type": "execute_result"
    }
   ],
   "source": [
    "# This is a simple arithmetic expression to mutiply then add integers\n",
    "\n",
    "(3*4)+5"
   ]
  },
  {
   "cell_type": "code",
   "execution_count": 10,
   "id": "44d1945a-9fa1-4f32-903f-614e559576e8",
   "metadata": {
    "tags": []
   },
   "outputs": [
    {
     "name": "stdout",
     "output_type": "stream",
     "text": [
      "200 minutes translates to 3.3333333333333335 hours\n"
     ]
    }
   ],
   "source": [
    "# This will convert 200 minutes to hours by diving by 60\n",
    "\n",
    "a = (200/60)\n",
    "print (\"200 minutes translates to\", a,\"hours\")"
   ]
  },
  {
   "cell_type": "markdown",
   "id": "88c67bf5-5245-4794-9a15-5ba29606eba6",
   "metadata": {},
   "source": [
    "## Author:\n",
    "\n",
    "Sanele Vakubi"
   ]
  },
  {
   "cell_type": "code",
   "execution_count": null,
   "id": "a8e0f881-4225-4483-9dba-afd6ba3d8665",
   "metadata": {},
   "outputs": [],
   "source": []
  }
 ],
 "metadata": {
  "kernelspec": {
   "display_name": "Python",
   "language": "python",
   "name": "conda-env-python-py"
  },
  "language_info": {
   "codemirror_mode": {
    "name": "ipython",
    "version": 3
   },
   "file_extension": ".py",
   "mimetype": "text/x-python",
   "name": "python",
   "nbconvert_exporter": "python",
   "pygments_lexer": "ipython3",
   "version": "3.7.12"
  }
 },
 "nbformat": 4,
 "nbformat_minor": 5
}
